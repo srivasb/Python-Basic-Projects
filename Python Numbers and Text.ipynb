{
 "cells": [
  {
   "cell_type": "code",
   "execution_count": 1,
   "metadata": {},
   "outputs": [],
   "source": [
    "import numpy as np"
   ]
  },
  {
   "cell_type": "code",
   "execution_count": 1,
   "metadata": {},
   "outputs": [],
   "source": [
    "#Function to compare two expressions\n",
    "def exersice(exp,solution):\n",
    "    print(\"Simplify {}\".format(exp))\n",
    "    user_ans = input(\"\\nwrite symplify expression: \")\n",
    "    result = user_ans == solution\n",
    "    print(\"your answere is {} and the correct answere is {}\".format(user_ans,solution))\n",
    "    print(\"\\nTherefore, exercise is {}\".format(result))"
   ]
  },
  {
   "cell_type": "code",
   "execution_count": 2,
   "metadata": {},
   "outputs": [
    {
     "name": "stdout",
     "output_type": "stream",
     "text": [
      "Simplify 4x + 3 - 2x\n",
      "\n",
      "write symplify expression: x+3\n",
      "your answere is x+3 and the correct answere is x + 3\n",
      "\n",
      "Therefore, exercise is False\n"
     ]
    }
   ],
   "source": [
    "expression = \"4x + 3 - 2x\"\n",
    "solution = \"x + 3\"\n",
    "exersice(expression,solution)"
   ]
  },
  {
   "cell_type": "code",
   "execution_count": 3,
   "metadata": {},
   "outputs": [
    {
     "name": "stdout",
     "output_type": "stream",
     "text": [
      "digite un numero: 5\n"
     ]
    }
   ],
   "source": [
    "n = input(\"digite un numero: \")"
   ]
  },
  {
   "cell_type": "code",
   "execution_count": 4,
   "metadata": {},
   "outputs": [
    {
     "data": {
      "text/plain": [
       "'5'"
      ]
     },
     "execution_count": 4,
     "metadata": {},
     "output_type": "execute_result"
    }
   ],
   "source": [
    "n"
   ]
  },
  {
   "cell_type": "code",
   "execution_count": null,
   "metadata": {},
   "outputs": [],
   "source": []
  }
 ],
 "metadata": {
  "kernelspec": {
   "display_name": "Python 3",
   "language": "python",
   "name": "python3"
  },
  "language_info": {
   "codemirror_mode": {
    "name": "ipython",
    "version": 3
   },
   "file_extension": ".py",
   "mimetype": "text/x-python",
   "name": "python",
   "nbconvert_exporter": "python",
   "pygments_lexer": "ipython3",
   "version": "3.8.3"
  }
 },
 "nbformat": 4,
 "nbformat_minor": 4
}
