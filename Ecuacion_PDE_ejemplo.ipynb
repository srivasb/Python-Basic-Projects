{
 "cells": [
  {
   "cell_type": "markdown",
   "metadata": {},
   "source": [
    "### Ejemplo Diferencias Finitas"
   ]
  },
  {
   "cell_type": "code",
   "execution_count": 24,
   "metadata": {},
   "outputs": [],
   "source": [
    "import numpy as np\n",
    "import matplotlib.pyplot as plt\n",
    "%matplotlib inline"
   ]
  },
  {
   "cell_type": "code",
   "execution_count": 25,
   "metadata": {},
   "outputs": [],
   "source": [
    "#CONSTANTES\n",
    "I = 1\n",
    "w = 2*np.pi\n",
    "dt = 0.05\n",
    "num_periods = 5\n",
    "P = 2*np.pi/w # one period\n",
    "T = P*num_periods"
   ]
  },
  {
   "cell_type": "code",
   "execution_count": 26,
   "metadata": {},
   "outputs": [],
   "source": [
    "\"\"\"\n",
    "Solve u’’ + w**2*u = 0 for t in (0,T], u(0)=I and u’(0)=0,\n",
    "by a central finite difference method with time step dt.\n",
    "\"\"\"\n",
    "\n",
    "#Solucion\n",
    "\n",
    "def solver(I, w, dt, T):\n",
    "    dt = float(dt)\n",
    "    Nt = int(round(T/dt))\n",
    "    u = np.zeros(Nt+1)\n",
    "    t = np.linspace(0, Nt*dt, Nt+1)\n",
    "    u[0] = I\n",
    "    u[1] = u[0] - 0.5*dt**2*w**2*u[0]\n",
    "    for n in range(1, Nt):\n",
    "        u[n+1] = 2*u[n] - u[n-1] - dt**2*w**2*u[n]\n",
    "    return u, t"
   ]
  },
  {
   "cell_type": "code",
   "execution_count": 27,
   "metadata": {},
   "outputs": [],
   "source": [
    "#Solucion Exacta\n",
    "\n",
    "def u_exact(t, I, w):\n",
    "    return I*np.cos(w*t)"
   ]
  },
  {
   "cell_type": "code",
   "execution_count": 28,
   "metadata": {},
   "outputs": [],
   "source": [
    "# Solucion\n",
    "\n",
    "u, t = solver(I, w, dt, T)"
   ]
  },
  {
   "cell_type": "code",
   "execution_count": null,
   "metadata": {},
   "outputs": [],
   "source": [
    "#Graficas\n",
    "\n",
    "t_fine = np.linspace(0, t[-1], 1001) # very fine mesh for u_e\n",
    "\n",
    "plt.plot(t, u, 'r--o')\n",
    "\n",
    "u_e = u_exact(t_fine, I, w)\n",
    "plt.plot(t_fine, u_e, 'b-')\n",
    "\n",
    "plt.legend(['numerical', 'exact'], loc='upper left')\n",
    "plt.xlabel('t')\n",
    "plt.ylabel('u')\n",
    "\n",
    "dt = t[1] - t[0]\n",
    "plt.title('dt=%g' % dt)\n",
    "\n",
    "umin = 1.2*u.min(); umax = -umin\n",
    "plt.axis([t[0], t[-1], umin, umax])\n",
    "plt.savefig('tmp1.png'); plt.savefig('tmp1.pdf')"
   ]
  },
  {
   "cell_type": "code",
   "execution_count": null,
   "metadata": {},
   "outputs": [],
   "source": []
  },
  {
   "cell_type": "code",
   "execution_count": null,
   "metadata": {},
   "outputs": [],
   "source": [
    "t[-1]"
   ]
  },
  {
   "cell_type": "code",
   "execution_count": null,
   "metadata": {},
   "outputs": [],
   "source": []
  }
 ],
 "metadata": {
  "kernelspec": {
   "display_name": "Python 3",
   "language": "python",
   "name": "python3"
  },
  "language_info": {
   "codemirror_mode": {
    "name": "ipython",
    "version": 3
   },
   "file_extension": ".py",
   "mimetype": "text/x-python",
   "name": "python",
   "nbconvert_exporter": "python",
   "pygments_lexer": "ipython3",
   "version": "3.7.4"
  }
 },
 "nbformat": 4,
 "nbformat_minor": 4
}
