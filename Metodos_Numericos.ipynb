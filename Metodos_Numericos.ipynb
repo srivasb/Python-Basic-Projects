{
 "cells": [
  {
   "cell_type": "markdown",
   "metadata": {
    "slideshow": {
     "slide_type": "slide"
    }
   },
   "source": [
    "# Herramientas Compmutacionales\n",
    "\n",
    "***\n",
    "\n",
    "## Raices: \n",
    "\n",
    "***"
   ]
  },
  {
   "cell_type": "code",
   "execution_count": 2,
   "metadata": {
    "slideshow": {
     "slide_type": "-"
    }
   },
   "outputs": [],
   "source": [
    "import numpy as np\n",
    "import matplotlib.pyplot as plt\n",
    "%matplotlib inline"
   ]
  },
  {
   "cell_type": "code",
   "execution_count": 3,
   "metadata": {
    "slideshow": {
     "slide_type": "slide"
    }
   },
   "outputs": [],
   "source": [
    "def function(x):\n",
    "    return x**3-4*x**2-2"
   ]
  },
  {
   "cell_type": "code",
   "execution_count": 4,
   "metadata": {
    "slideshow": {
     "slide_type": "subslide"
    }
   },
   "outputs": [],
   "source": [
    "def deriv_function(x):\n",
    "    delta = 1e-5\n",
    "    return (function(x+delta)-function(x-delta))/(2*delta)"
   ]
  },
  {
   "cell_type": "code",
   "execution_count": 5,
   "metadata": {
    "slideshow": {
     "slide_type": "subslide"
    }
   },
   "outputs": [],
   "source": [
    "def next_point(x):\n",
    "    return x - function(x)/deriv_function(x)"
   ]
  },
  {
   "cell_type": "code",
   "execution_count": 6,
   "metadata": {
    "slideshow": {
     "slide_type": "slide"
    }
   },
   "outputs": [],
   "source": [
    "def Newton_Method(x_start,i_top):\n",
    "    i=0.0\n",
    "    x_result=0.0\n",
    "    epsilon = 1e-6\n",
    "    while i < i_top:\n",
    "        x=x_start\n",
    "        x_start=next_point(x_start)\n",
    "        if np.absolute(x_start-x) < epsilon:\n",
    "            x_result = x_start\n",
    "            break\n",
    "        i=i+1\n",
    "    return x_result      "
   ]
  },
  {
   "cell_type": "code",
   "execution_count": 7,
   "metadata": {
    "slideshow": {
     "slide_type": "slide"
    }
   },
   "outputs": [
    {
     "name": "stdout",
     "output_type": "stream",
     "text": [
      "Newton: root = 4.1179\n"
     ]
    }
   ],
   "source": [
    "root = Newton_Method(1,61)\n",
    "print(\"Newton: root = {:.4f}\".format(root))"
   ]
  },
  {
   "cell_type": "markdown",
   "metadata": {},
   "source": [
    "### Bisection Method and Scipy"
   ]
  },
  {
   "cell_type": "code",
   "execution_count": 8,
   "metadata": {},
   "outputs": [],
   "source": [
    "#import numpy as np"
   ]
  },
  {
   "cell_type": "code",
   "execution_count": 9,
   "metadata": {},
   "outputs": [],
   "source": [
    "# define an interval\n",
    "# a always left\n",
    "# b always right\n",
    "\n",
    "a=0\n",
    "b=5"
   ]
  },
  {
   "cell_type": "code",
   "execution_count": 10,
   "metadata": {},
   "outputs": [],
   "source": [
    "def function(x):\n",
    "    return x**3-4*x**2-2"
   ]
  },
  {
   "cell_type": "code",
   "execution_count": 15,
   "metadata": {},
   "outputs": [],
   "source": [
    "def Bisection_Method(a,b):\n",
    "    epsilon = 1e-5\n",
    "    ya=function(a)\n",
    "    yb=function(b)\n",
    "    c = (a+b)/2\n",
    "    yc=function(c)\n",
    "    if np.abs(a-b) < epsilon:\n",
    "        return min(a,b)\n",
    "    elif ya*yc > 0:\n",
    "        a = c\n",
    "        return Bisection_Method(a,b)\n",
    "    else:\n",
    "        b = c  \n",
    "        return Bisection_Method(a,b)"
   ]
  },
  {
   "cell_type": "code",
   "execution_count": 16,
   "metadata": {},
   "outputs": [
    {
     "name": "stdout",
     "output_type": "stream",
     "text": [
      "Biseccion: x_raiz = 4.1179\n"
     ]
    }
   ],
   "source": [
    "root = Bisection_Method(a,b)\n",
    "print(\"Biseccion: x_raiz = {:.4f}\".format(root))"
   ]
  },
  {
   "cell_type": "code",
   "execution_count": 24,
   "metadata": {},
   "outputs": [
    {
     "data": {
      "image/png": "[encoded data removed]",
      "text/plain": [
       "<Figure size 432x288 with 1 Axes>"
      ]
     },
     "metadata": {
      "needs_background": "light"
     },
     "output_type": "display_data"
    }
   ],
   "source": [
    "x = np.linspace(0,5,500)\n",
    "y = x**3-4*x**2-2\n",
    "\n",
    "plt.figure()\n",
    "plt.grid(True)\n",
    "plt.scatter(x,y,s=0.55,c='black',label=\"f(x)=x**3-4x**2-2\")\n",
    "plt.scatter(root,0,s=65,c='red',label='root of f(x)')\n",
    "plt.legend()\n",
    "plt.legend(loc=2,frameon=True,title='Function')\n",
    "plt.show()"
   ]
  },
  {
   "cell_type": "code",
   "execution_count": 20,
   "metadata": {},
   "outputs": [
    {
     "data": {
      "image/png": "[encoded data removed]",
      "text/plain": [
       "<Figure size 432x288 with 1 Axes>"
      ]
     },
     "metadata": {
      "needs_background": "light"
     },
     "output_type": "display_data"
    }
   ],
   "source": [
    "plt.figure()\n",
    "plt.grid(True)\n",
    "plt.plot(x,y,'-k')\n",
    "plt.show()"
   ]
  },
  {
   "cell_type": "markdown",
   "metadata": {},
   "source": [
    "## Normal Distribution"
   ]
  },
  {
   "cell_type": "code",
   "execution_count": 23,
   "metadata": {},
   "outputs": [],
   "source": [
    "import numpy as np\n",
    "import matplotlib.pyplot as plt\n",
    "%matplotlib inline"
   ]
  },
  {
   "cell_type": "code",
   "execution_count": 36,
   "metadata": {},
   "outputs": [
    {
     "data": {
      "image/png": "[encoded data removed]",
      "text/plain": [
       "<Figure size 432x288 with 1 Axes>"
      ]
     },
     "metadata": {},
     "output_type": "display_data"
    },
    {
     "data": {
      "image/png": "[encoded data removed]",
      "text/plain": [
       "<Figure size 432x288 with 1 Axes>"
      ]
     },
     "metadata": {},
     "output_type": "display_data"
    }
   ],
   "source": [
    "import matplotlib\n",
    "matplotlib.style.use('ggplot')\n",
    "\n",
    "np.random.seed(4)\n",
    "\n",
    "data = np.round(np.random.normal(0, 10, 1000))\n",
    "data2= np.round(np.random.normal(10, 5, 1000))\n",
    "\n",
    "#fig, axes = plt.subplots(1,2)\n",
    "plt.hist(data,bins=15,range=(-40,40),edgecolor='black')\n",
    "plt.show()\n",
    "plt.hist(data2,bins=15,range=(-20,30),edgecolor='black')\n",
    "plt.show()"
   ]
  },
  {
   "cell_type": "code",
   "execution_count": 35,
   "metadata": {},
   "outputs": [
    {
     "data": {
      "image/png": "[encoded data removed]",
      "text/plain": [
       "<Figure size 432x288 with 1 Axes>"
      ]
     },
     "metadata": {},
     "output_type": "display_data"
    },
    {
     "data": {
      "image/png": "[encoded data removed]",
      "text/plain": [
       "<Figure size 432x288 with 1 Axes>"
      ]
     },
     "metadata": {},
     "output_type": "display_data"
    }
   ],
   "source": [
    "import seaborn as sns\n",
    "sns.distplot(data)\n",
    "plt.show()\n",
    "sns.distplot(data2)\n",
    "plt.show()"
   ]
  },
  {
   "cell_type": "code",
   "execution_count": 39,
   "metadata": {},
   "outputs": [
    {
     "data": {
      "image/png": "[encoded data removed]",
      "text/plain": [
       "<Figure size 432x288 with 1 Axes>"
      ]
     },
     "metadata": {},
     "output_type": "display_data"
    }
   ],
   "source": [
    "plt.hist(data,bins=15, density=True, range=(-40,40),edgecolor='black')\n",
    "plt.show()"
   ]
  },
  {
   "cell_type": "code",
   "execution_count": 43,
   "metadata": {},
   "outputs": [
    {
     "data": {
      "image/png": "[encoded data removed]",
      "text/plain": [
       "<Figure size 432x288 with 1 Axes>"
      ]
     },
     "metadata": {},
     "output_type": "display_data"
    }
   ],
   "source": [
    "np.random.seed(4)\n",
    "\n",
    "data1 = np.random.normal(0, 0.8, 1000)\n",
    "data2 = np.random.normal(-2, 1, 1000)\n",
    "data3 = np.random.normal(3, 2, 1000)\n",
    "\n",
    "kwargs = dict(histtype='barstacked', alpha=0.5, density=True, bins=40)\n",
    "\n",
    "plt.hist(data1, **kwargs)\n",
    "plt.hist(data2, **kwargs)\n",
    "plt.hist(data3, **kwargs);"
   ]
  },
  {
   "cell_type": "code",
   "execution_count": 44,
   "metadata": {},
   "outputs": [
    {
     "data": {
      "image/png": "[encoded data removed]",
      "text/plain": [
       "<Figure size 432x288 with 2 Axes>"
      ]
     },
     "metadata": {},
     "output_type": "display_data"
    }
   ],
   "source": [
    "mean = [0, 0]\n",
    "cov = [[1, 1], [1, 2]]\n",
    "x, y = np.random.multivariate_normal(mean, cov, 10000).T\n",
    "plt.hist2d(x, y, bins=30, cmap='Blues')\n",
    "cb = plt.colorbar()\n",
    "cb.set_label('counts in bin')"
   ]
  },
  {
   "cell_type": "markdown",
   "metadata": {},
   "source": [
    "## Regresion Lineal Y Mínimos Cuadrados"
   ]
  },
  {
   "cell_type": "code",
   "execution_count": 3,
   "metadata": {},
   "outputs": [],
   "source": [
    "import numpy as np\n",
    "import matplotlib.pyplot as plt\n",
    "%matplotlib inline"
   ]
  },
  {
   "cell_type": "code",
   "execution_count": 6,
   "metadata": {},
   "outputs": [],
   "source": [
    "from sklearn.linear_model import LinearRegression"
   ]
  },
  {
   "cell_type": "code",
   "execution_count": 19,
   "metadata": {},
   "outputs": [],
   "source": [
    "import random\n",
    "def lista_aleatorios(n):\n",
    "    x = [0] * n\n",
    "    for i in range(n):\n",
    "        x[i] = random.randint(0, 51)\n",
    "    return x\n",
    "x=lista_aleatorios(50)\n",
    "y=lista_aleatorios(50)"
   ]
  },
  {
   "cell_type": "code",
   "execution_count": 27,
   "metadata": {},
   "outputs": [],
   "source": [
    "#Object Linear Regression\n",
    "linearModel = LinearRegression()"
   ]
  },
  {
   "cell_type": "code",
   "execution_count": 24,
   "metadata": {},
   "outputs": [],
   "source": [
    "x=np.array(x)\n",
    "y=np.array(y)\n",
    "x = x.reshape(-1,1)"
   ]
  },
  {
   "cell_type": "code",
   "execution_count": 28,
   "metadata": {},
   "outputs": [
    {
     "data": {
      "text/plain": [
       "LinearRegression()"
      ]
     },
     "execution_count": 28,
     "metadata": {},
     "output_type": "execute_result"
    }
   ],
   "source": [
    "linearModel.fit(x,y)"
   ]
  },
  {
   "cell_type": "code",
   "execution_count": 30,
   "metadata": {},
   "outputs": [],
   "source": [
    "y_prediction = linearModel.predict(x)"
   ]
  },
  {
   "cell_type": "code",
   "execution_count": 31,
   "metadata": {},
   "outputs": [
    {
     "data": {
      "text/plain": [
       "array([26.29464382, 27.85681684, 18.2885071 , 22.97502616, 21.21758151,\n",
       "       18.2885071 , 18.48377873, 26.68518708, 26.0993722 , 26.48991545,\n",
       "       27.66154522, 26.88045871, 27.07573033, 22.19393965, 21.41285314,\n",
       "       27.07573033, 20.24122338, 21.99866802, 25.31828569, 19.46013687,\n",
       "       28.05208847, 20.24122338, 24.7324708 , 23.75611267, 20.63176663,\n",
       "       22.19393965, 20.63176663, 28.05208847, 23.9513843 , 21.60812477,\n",
       "       23.56084104, 27.07573033, 18.09323547, 20.04595175, 18.09323547,\n",
       "       21.80339639, 21.99866802, 24.53719918, 21.21758151, 27.27100196,\n",
       "       24.34192755, 21.21758151, 22.38921128, 18.09323547, 25.31828569,\n",
       "       20.436495  , 26.48991545, 26.88045871, 18.09323547, 22.19393965])"
      ]
     },
     "execution_count": 31,
     "metadata": {},
     "output_type": "execute_result"
    }
   ],
   "source": [
    "y_prediction"
   ]
  },
  {
   "cell_type": "code",
   "execution_count": 32,
   "metadata": {},
   "outputs": [
    {
     "data": {
      "image/png": "[encoded data removed]",
      "text/plain": [
       "<Figure size 432x288 with 1 Axes>"
      ]
     },
     "metadata": {
      "needs_background": "light"
     },
     "output_type": "display_data"
    }
   ],
   "source": [
    "#Plot\n",
    "plt.figure()\n",
    "plt.scatter(x,y)\n",
    "plt.plot(x,y_prediction, c='red')\n",
    "plt.show()"
   ]
  },
  {
   "cell_type": "code",
   "execution_count": 41,
   "metadata": {},
   "outputs": [
    {
     "name": "stdout",
     "output_type": "stream",
     "text": [
      "La ecuacion de la aproximacion lineal es y=0.195x+18.093\n"
     ]
    }
   ],
   "source": [
    "m = linearModel.coef_\n",
    "c = linearModel.intercept_\n",
    "print('La ecuacion de la aproximacion lineal es y={:.3f}x+{:.3f}'.format(m[0],c))"
   ]
  },
  {
   "cell_type": "code",
   "execution_count": 42,
   "metadata": {},
   "outputs": [],
   "source": [
    "x=np.linspace(0,50,100)\n",
    "y=m[0]*x+c"
   ]
  },
  {
   "cell_type": "code",
   "execution_count": 45,
   "metadata": {},
   "outputs": [
    {
     "data": {
      "image/png": "[encoded data removed]",
      "text/plain": [
       "<Figure size 432x288 with 1 Axes>"
      ]
     },
     "metadata": {
      "needs_background": "light"
     },
     "output_type": "display_data"
    }
   ],
   "source": [
    "plt.grid(True)\n",
    "plt.plot(x,y)\n",
    "plt.show()"
   ]
  },
  {
   "cell_type": "code",
   "execution_count": 47,
   "metadata": {},
   "outputs": [],
   "source": [
    "# Error R2\n",
    "from sklearn.metrics import r2_score"
   ]
  },
  {
   "cell_type": "code",
   "execution_count": 48,
   "metadata": {},
   "outputs": [
    {
     "data": {
      "text/plain": [
       "-0.11701402913942882"
      ]
     },
     "execution_count": 48,
     "metadata": {},
     "output_type": "execute_result"
    }
   ],
   "source": [
    "def lista_aleatorios(n):\n",
    "    x = [0] * n\n",
    "    for i in range(n):\n",
    "        x[i] = random.randint(0, 51)\n",
    "    return x\n",
    "x=lista_aleatorios(50)\n",
    "y=lista_aleatorios(50)\n",
    "\n",
    "r2_score(y, y_prediction)"
   ]
  },
  {
   "cell_type": "code",
   "execution_count": 49,
   "metadata": {},
   "outputs": [],
   "source": [
    "x = np.array([1,2,6,7,10,12,13,20,25])\n",
    "y = np.array([2,2,8,10,11,15,20,18,22])"
   ]
  },
  {
   "cell_type": "code",
   "execution_count": 50,
   "metadata": {},
   "outputs": [],
   "source": [
    "ln_reg = LinearRegression()"
   ]
  },
  {
   "cell_type": "code",
   "execution_count": 59,
   "metadata": {},
   "outputs": [
    {
     "data": {
      "text/plain": [
       "array([[ 1],\n",
       "       [ 2],\n",
       "       [ 6],\n",
       "       [ 7],\n",
       "       [10],\n",
       "       [12],\n",
       "       [13],\n",
       "       [20],\n",
       "       [25]])"
      ]
     },
     "execution_count": 59,
     "metadata": {},
     "output_type": "execute_result"
    }
   ],
   "source": [
    "x=x.reshape(-1,1)\n",
    "x"
   ]
  },
  {
   "cell_type": "code",
   "execution_count": 53,
   "metadata": {},
   "outputs": [
    {
     "data": {
      "text/plain": [
       "LinearRegression()"
      ]
     },
     "execution_count": 53,
     "metadata": {},
     "output_type": "execute_result"
    }
   ],
   "source": [
    "ln_reg.fit(x,y)"
   ]
  },
  {
   "cell_type": "code",
   "execution_count": 56,
   "metadata": {},
   "outputs": [],
   "source": [
    "y_pred = linearModel.predict(x)"
   ]
  },
  {
   "cell_type": "code",
   "execution_count": 58,
   "metadata": {},
   "outputs": [
    {
     "data": {
      "image/png": "[encoded data removed]",
      "text/plain": [
       "<Figure size 432x288 with 1 Axes>"
      ]
     },
     "metadata": {
      "needs_background": "light"
     },
     "output_type": "display_data"
    }
   ],
   "source": [
    "plt.scatter(x,y)\n",
    "plt.plot(x,y_pred,c='red')\n",
    "plt.show()"
   ]
  },
  {
   "cell_type": "code",
   "execution_count": 60,
   "metadata": {},
   "outputs": [
    {
     "data": {
      "text/plain": [
       "-1.0515015701148696"
      ]
     },
     "execution_count": 60,
     "metadata": {},
     "output_type": "execute_result"
    }
   ],
   "source": [
    "from sklearn.metrics import r2_score\n",
    "r2_score(y, y_pred)"
   ]
  },
  {
   "cell_type": "markdown",
   "metadata": {},
   "source": [
    "#### Better Example"
   ]
  },
  {
   "cell_type": "code",
   "execution_count": 61,
   "metadata": {},
   "outputs": [
    {
     "name": "stdout",
     "output_type": "stream",
     "text": [
      "[0 1 2 3 4 5] [0.  0.2 0.8 1.2 1.5 1.9]\n"
     ]
    }
   ],
   "source": [
    "x = np.array([i for i in range(0,6)])\n",
    "y = np.array([0,0.2,0.8,1.2,1.5,1.9])\n",
    "print(x,y)"
   ]
  },
  {
   "cell_type": "code",
   "execution_count": 62,
   "metadata": {},
   "outputs": [],
   "source": [
    "from scipy.interpolate import *"
   ]
  },
  {
   "cell_type": "code",
   "execution_count": 64,
   "metadata": {},
   "outputs": [
    {
     "name": "stdout",
     "output_type": "stream",
     "text": [
      "[ 0.39428571 -0.05238095]\n"
     ]
    }
   ],
   "source": [
    "p1 = np.polyfit(x,y,1)\n",
    "print(p1)"
   ]
  },
  {
   "cell_type": "code",
   "execution_count": 67,
   "metadata": {},
   "outputs": [],
   "source": [
    "x_p = np.linspace(0,6,100)\n",
    "y_p = p1[0]*x_p+p1[1]"
   ]
  },
  {
   "cell_type": "code",
   "execution_count": 71,
   "metadata": {},
   "outputs": [
    {
     "data": {
      "image/png": "[encoded data removed]",
      "text/plain": [
       "<Figure size 432x288 with 1 Axes>"
      ]
     },
     "metadata": {
      "needs_background": "light"
     },
     "output_type": "display_data"
    }
   ],
   "source": [
    "plt.title(\"Exaple Linear Fit\")\n",
    "plt.scatter(x,y, s=25,c='red',label='data')\n",
    "plt.plot(x_p,y_p,label='fit')\n",
    "plt.legend()\n",
    "plt.legend(loc=2,frameon=True,title='Linear fit')\n",
    "plt.show()"
   ]
  },
  {
   "cell_type": "code",
   "execution_count": null,
   "metadata": {},
   "outputs": [],
   "source": []
  }
 ],
 "metadata": {
  "kernelspec": {
   "display_name": "Python 3",
   "language": "python",
   "name": "python3"
  },
  "language_info": {
   "codemirror_mode": {
    "name": "ipython",
    "version": 3
   },
   "file_extension": ".py",
   "mimetype": "text/x-python",
   "name": "python",
   "nbconvert_exporter": "python",
   "pygments_lexer": "ipython3",
   "version": "3.7.4"
  }
 },
 "nbformat": 4,
 "nbformat_minor": 4
}
